{
  "metadata": {
    "kernelspec": {
      "name": "python",
      "display_name": "Python (Pyodide)",
      "language": "python"
    },
    "language_info": {
      "codemirror_mode": {
        "name": "python",
        "version": 3
      },
      "file_extension": ".py",
      "mimetype": "text/x-python",
      "name": "python",
      "nbconvert_exporter": "python",
      "pygments_lexer": "ipython3",
      "version": "3.8"
    }
  },
  "nbformat_minor": 5,
  "nbformat": 4,
  "cells": [
    {
      "id": "2d1d6862-e27c-4605-a5b3-34f1c9d607be",
      "cell_type": "code",
      "source": "import pandas as pd \nimport numpy as np",
      "metadata": {
        "trusted": true
      },
      "outputs": [],
      "execution_count": 1
    },
    {
      "id": "eaecaf7f-4966-43e8-b6e5-64cd57676ff3",
      "cell_type": "code",
      "source": "s1 = pd.Series(np.random.randint(1, high=5, size=100, dtype='l')) \ns2 = pd.Series(np.random.randint(1, high=4, size=100, dtype='l')) \ns3 = pd.Series(np.random.randint(10000, high=30001, size=100, dtype='l')) \nprint(s1, s2, s3)",
      "metadata": {
        "trusted": true
      },
      "outputs": [
        {
          "name": "stdout",
          "output_type": "stream",
          "text": "0     3\n1     4\n2     3\n3     1\n4     1\n     ..\n95    4\n96    1\n97    3\n98    1\n99    3\nLength: 100, dtype: int32 0     1\n1     1\n2     3\n3     1\n4     3\n     ..\n95    2\n96    2\n97    1\n98    1\n99    1\nLength: 100, dtype: int32 0     26524\n1     13891\n2     20250\n3     16941\n4     13547\n      ...  \n95    25326\n96    26690\n97    16683\n98    21525\n99    26896\nLength: 100, dtype: int32\n"
        }
      ],
      "execution_count": 2
    },
    {
      "id": "c094c533-c36a-4b46-be1f-c0deb508f77d",
      "cell_type": "code",
      "source": "",
      "metadata": {
        "trusted": true
      },
      "outputs": [],
      "execution_count": null
    }
  ]
}